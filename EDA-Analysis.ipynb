{
 "cells": [
  {
   "cell_type": "markdown",
   "id": "465c61c0-29ad-41b1-b29c-fe39c7354c49",
   "metadata": {
    "tags": []
   },
   "source": [
    "## EXPLORATORY DATA ANALYSIS FILE\n",
    "\n",
    "This file serves as our exploratory data analysis file where we were able to check how our dataset is looking and what cleaning we needed to conduct.\n",
    "\n",
    "**NOTE (DO NOT RUN THIS FILE - does not contain reduced data): This was used on the whole dataset, and is just for exploration purposes (extra file)**"
   ]
  },
  {
   "cell_type": "code",
   "execution_count": 1,
   "id": "c9889f0b",
   "metadata": {
    "tags": []
   },
   "outputs": [],
   "source": [
    "import pandas as pd\n",
    "from warnings import filterwarnings\n",
    "filterwarnings(\"ignore\")"
   ]
  },
  {
   "cell_type": "code",
   "execution_count": 2,
   "id": "f913493e",
   "metadata": {
    "tags": []
   },
   "outputs": [
    {
     "data": {
      "text/html": [
       "<div>\n",
       "<style scoped>\n",
       "    .dataframe tbody tr th:only-of-type {\n",
       "        vertical-align: middle;\n",
       "    }\n",
       "\n",
       "    .dataframe tbody tr th {\n",
       "        vertical-align: top;\n",
       "    }\n",
       "\n",
       "    .dataframe thead th {\n",
       "        text-align: right;\n",
       "    }\n",
       "</style>\n",
       "<table border=\"1\" class=\"dataframe\">\n",
       "  <thead>\n",
       "    <tr style=\"text-align: right;\">\n",
       "      <th></th>\n",
       "      <th>Patient Age at Treatment</th>\n",
       "      <th>Date patient started trying to become pregnant OR date of last pregnancy</th>\n",
       "      <th>Total Number of Previous cycles, Both IVF and DI</th>\n",
       "      <th>Total Number of Previous treatments, Both IVF and DI at clinic</th>\n",
       "      <th>Total Number of Previous IVF cycles</th>\n",
       "      <th>Total Number of Previous DI cycles</th>\n",
       "      <th>Total number of previous pregnancies, Both IVF and DI</th>\n",
       "      <th>Total number of IVF pregnancies</th>\n",
       "      <th>Total number of DI pregnancies</th>\n",
       "      <th>Total number of live births - conceived through IVF or DI</th>\n",
       "      <th>...</th>\n",
       "      <th>Heart Three Birth Weight</th>\n",
       "      <th>Heart Three Sex</th>\n",
       "      <th>Heart Three Delivery Date</th>\n",
       "      <th>Heart Three Birth Congenital Abnormalities</th>\n",
       "      <th>Heart Four Weeks Gestation</th>\n",
       "      <th>Heart Four Birth Outcome</th>\n",
       "      <th>Heart Four Birth Weight</th>\n",
       "      <th>Heart Four Sex</th>\n",
       "      <th>Heart Four Delivery Date</th>\n",
       "      <th>Heart Four Birth Congenital Abnormalities</th>\n",
       "    </tr>\n",
       "  </thead>\n",
       "  <tbody>\n",
       "    <tr>\n",
       "      <th>0</th>\n",
       "      <td>40-42</td>\n",
       "      <td>NaN</td>\n",
       "      <td>2</td>\n",
       "      <td>2</td>\n",
       "      <td>2</td>\n",
       "      <td>0</td>\n",
       "      <td>0</td>\n",
       "      <td>0</td>\n",
       "      <td>0</td>\n",
       "      <td>0</td>\n",
       "      <td>...</td>\n",
       "      <td>NaN</td>\n",
       "      <td>NaN</td>\n",
       "      <td>NaN</td>\n",
       "      <td>NaN</td>\n",
       "      <td>NaN</td>\n",
       "      <td>NaN</td>\n",
       "      <td>NaN</td>\n",
       "      <td>NaN</td>\n",
       "      <td>NaN</td>\n",
       "      <td>NaN</td>\n",
       "    </tr>\n",
       "    <tr>\n",
       "      <th>1</th>\n",
       "      <td>45-50</td>\n",
       "      <td>NaN</td>\n",
       "      <td>3</td>\n",
       "      <td>3</td>\n",
       "      <td>3</td>\n",
       "      <td>0</td>\n",
       "      <td>0</td>\n",
       "      <td>0</td>\n",
       "      <td>0</td>\n",
       "      <td>0</td>\n",
       "      <td>...</td>\n",
       "      <td>NaN</td>\n",
       "      <td>NaN</td>\n",
       "      <td>NaN</td>\n",
       "      <td>NaN</td>\n",
       "      <td>NaN</td>\n",
       "      <td>NaN</td>\n",
       "      <td>NaN</td>\n",
       "      <td>NaN</td>\n",
       "      <td>NaN</td>\n",
       "      <td>NaN</td>\n",
       "    </tr>\n",
       "    <tr>\n",
       "      <th>2</th>\n",
       "      <td>35-37</td>\n",
       "      <td>NaN</td>\n",
       "      <td>0</td>\n",
       "      <td>0</td>\n",
       "      <td>0</td>\n",
       "      <td>0</td>\n",
       "      <td>0</td>\n",
       "      <td>0</td>\n",
       "      <td>0</td>\n",
       "      <td>0</td>\n",
       "      <td>...</td>\n",
       "      <td>NaN</td>\n",
       "      <td>NaN</td>\n",
       "      <td>NaN</td>\n",
       "      <td>NaN</td>\n",
       "      <td>NaN</td>\n",
       "      <td>NaN</td>\n",
       "      <td>NaN</td>\n",
       "      <td>NaN</td>\n",
       "      <td>NaN</td>\n",
       "      <td>NaN</td>\n",
       "    </tr>\n",
       "    <tr>\n",
       "      <th>3</th>\n",
       "      <td>18 - 34</td>\n",
       "      <td>NaN</td>\n",
       "      <td>2</td>\n",
       "      <td>2</td>\n",
       "      <td>2</td>\n",
       "      <td>0</td>\n",
       "      <td>0</td>\n",
       "      <td>0</td>\n",
       "      <td>0</td>\n",
       "      <td>0</td>\n",
       "      <td>...</td>\n",
       "      <td>NaN</td>\n",
       "      <td>NaN</td>\n",
       "      <td>NaN</td>\n",
       "      <td>NaN</td>\n",
       "      <td>NaN</td>\n",
       "      <td>NaN</td>\n",
       "      <td>NaN</td>\n",
       "      <td>NaN</td>\n",
       "      <td>NaN</td>\n",
       "      <td>NaN</td>\n",
       "    </tr>\n",
       "    <tr>\n",
       "      <th>4</th>\n",
       "      <td>18 - 34</td>\n",
       "      <td>NaN</td>\n",
       "      <td>5</td>\n",
       "      <td>5</td>\n",
       "      <td>5</td>\n",
       "      <td>0</td>\n",
       "      <td>1</td>\n",
       "      <td>1</td>\n",
       "      <td>0</td>\n",
       "      <td>1</td>\n",
       "      <td>...</td>\n",
       "      <td>NaN</td>\n",
       "      <td>NaN</td>\n",
       "      <td>NaN</td>\n",
       "      <td>NaN</td>\n",
       "      <td>NaN</td>\n",
       "      <td>NaN</td>\n",
       "      <td>NaN</td>\n",
       "      <td>NaN</td>\n",
       "      <td>NaN</td>\n",
       "      <td>NaN</td>\n",
       "    </tr>\n",
       "  </tbody>\n",
       "</table>\n",
       "<p>5 rows × 95 columns</p>\n",
       "</div>"
      ],
      "text/plain": [
       "  Patient Age at Treatment  \\\n",
       "0                    40-42   \n",
       "1                    45-50   \n",
       "2                    35-37   \n",
       "3                  18 - 34   \n",
       "4                  18 - 34   \n",
       "\n",
       "   Date patient started trying to become pregnant OR date of last pregnancy  \\\n",
       "0                                                NaN                          \n",
       "1                                                NaN                          \n",
       "2                                                NaN                          \n",
       "3                                                NaN                          \n",
       "4                                                NaN                          \n",
       "\n",
       "  Total Number of Previous cycles, Both IVF and DI  \\\n",
       "0                                                2   \n",
       "1                                                3   \n",
       "2                                                0   \n",
       "3                                                2   \n",
       "4                                                5   \n",
       "\n",
       "  Total Number of Previous treatments, Both IVF and DI at clinic  \\\n",
       "0                                                  2               \n",
       "1                                                  3               \n",
       "2                                                  0               \n",
       "3                                                  2               \n",
       "4                                                  5               \n",
       "\n",
       "  Total Number of Previous IVF cycles Total Number of Previous DI cycles  \\\n",
       "0                                   2                                  0   \n",
       "1                                   3                                  0   \n",
       "2                                   0                                  0   \n",
       "3                                   2                                  0   \n",
       "4                                   5                                  0   \n",
       "\n",
       "  Total number of previous pregnancies, Both IVF and DI  \\\n",
       "0                                                  0      \n",
       "1                                                  0      \n",
       "2                                                  0      \n",
       "3                                                  0      \n",
       "4                                                  1      \n",
       "\n",
       "  Total number of IVF pregnancies  Total number of DI pregnancies  \\\n",
       "0                               0                               0   \n",
       "1                               0                               0   \n",
       "2                               0                               0   \n",
       "3                               0                               0   \n",
       "4                               1                               0   \n",
       "\n",
       "   Total number of live births - conceived through IVF or DI  ...  \\\n",
       "0                                                  0          ...   \n",
       "1                                                  0          ...   \n",
       "2                                                  0          ...   \n",
       "3                                                  0          ...   \n",
       "4                                                  1          ...   \n",
       "\n",
       "   Heart Three Birth Weight  Heart Three Sex  Heart Three Delivery Date  \\\n",
       "0                       NaN              NaN                        NaN   \n",
       "1                       NaN              NaN                        NaN   \n",
       "2                       NaN              NaN                        NaN   \n",
       "3                       NaN              NaN                        NaN   \n",
       "4                       NaN              NaN                        NaN   \n",
       "\n",
       "   Heart Three Birth Congenital Abnormalities  Heart Four Weeks Gestation  \\\n",
       "0                                         NaN                         NaN   \n",
       "1                                         NaN                         NaN   \n",
       "2                                         NaN                         NaN   \n",
       "3                                         NaN                         NaN   \n",
       "4                                         NaN                         NaN   \n",
       "\n",
       "   Heart Four Birth Outcome  Heart Four Birth Weight  Heart Four Sex  \\\n",
       "0                       NaN                      NaN             NaN   \n",
       "1                       NaN                      NaN             NaN   \n",
       "2                       NaN                      NaN             NaN   \n",
       "3                       NaN                      NaN             NaN   \n",
       "4                       NaN                      NaN             NaN   \n",
       "\n",
       "   Heart Four Delivery Date  Heart Four Birth Congenital Abnormalities  \n",
       "0                       NaN                                        NaN  \n",
       "1                       NaN                                        NaN  \n",
       "2                       NaN                                        NaN  \n",
       "3                       NaN                                        NaN  \n",
       "4                       NaN                                        NaN  \n",
       "\n",
       "[5 rows x 95 columns]"
      ]
     },
     "execution_count": 2,
     "metadata": {},
     "output_type": "execute_result"
    }
   ],
   "source": [
    "df = pd.read_csv('IVF_treatment.csv')\n",
    "df.head()"
   ]
  },
  {
   "cell_type": "code",
   "execution_count": 5,
   "id": "aff64520",
   "metadata": {
    "tags": []
   },
   "outputs": [],
   "source": [
    "columns_to_keep = ['Patient Age at Treatment', \n",
    "                  'Total Number of Previous IVF cycles', \n",
    "                  'Total number of IVF pregnancies',\n",
    "                   'Total number of live births - conceived through IVF',\n",
    "                  'Type of Infertility - Female Primary',\n",
    "                  'Type of Infertility - Female Secondary',\n",
    "                  'Type of Infertility - Male Primary',\n",
    "                  'Type of Infertility - Male Secondary',\n",
    "                  'Type of Infertility -Couple Primary',\n",
    "                  'Type of Infertility -Couple Secondary',\n",
    "                   'Cause  of Infertility - Tubal disease',\n",
    "                   'Cause of Infertility - Ovulatory Disorder',\n",
    "                   'Cause of Infertility - Male Factor',\n",
    "                  'Cause of Infertility - Patient Unexplained',\n",
    "                   'Cause of Infertility - Endometriosis',\n",
    "                   'Cause of Infertility - Cervical factors',\n",
    "                  'Cause of Infertility - Female Factors',\n",
    "                   'Cause of Infertility - Partner Sperm Concentration',\n",
    "                  'Cause of Infertility -  Partner Sperm Morphology',\n",
    "                   'Causes of Infertility - Partner Sperm Motility',\n",
    "                   'Cause of Infertility -  Partner Sperm Immunological factors',\n",
    "                  'Stimulation used',\n",
    "                   'Egg Source',\n",
    "                   'Sperm From', 'Fresh Cycle', 'Frozen Cycle', 'Eggs Thawed',  \n",
    "                   'Eggs Mixed With Partner Sperm',  'Embryos Transfered',  'Live Birth Occurrence']"
   ]
  },
  {
   "cell_type": "code",
   "execution_count": 7,
   "id": "8e64b304",
   "metadata": {
    "tags": []
   },
   "outputs": [
    {
     "data": {
      "text/html": [
       "<div>\n",
       "<style scoped>\n",
       "    .dataframe tbody tr th:only-of-type {\n",
       "        vertical-align: middle;\n",
       "    }\n",
       "\n",
       "    .dataframe tbody tr th {\n",
       "        vertical-align: top;\n",
       "    }\n",
       "\n",
       "    .dataframe thead th {\n",
       "        text-align: right;\n",
       "    }\n",
       "</style>\n",
       "<table border=\"1\" class=\"dataframe\">\n",
       "  <thead>\n",
       "    <tr style=\"text-align: right;\">\n",
       "      <th></th>\n",
       "      <th>Patient Age at Treatment</th>\n",
       "      <th>Total Number of Previous IVF cycles</th>\n",
       "      <th>Total number of IVF pregnancies</th>\n",
       "      <th>Total number of live births - conceived through IVF</th>\n",
       "      <th>Type of Infertility - Female Primary</th>\n",
       "      <th>Type of Infertility - Female Secondary</th>\n",
       "      <th>Type of Infertility - Male Primary</th>\n",
       "      <th>Type of Infertility - Male Secondary</th>\n",
       "      <th>Type of Infertility -Couple Primary</th>\n",
       "      <th>Type of Infertility -Couple Secondary</th>\n",
       "      <th>...</th>\n",
       "      <th>Cause of Infertility -  Partner Sperm Immunological factors</th>\n",
       "      <th>Stimulation used</th>\n",
       "      <th>Egg Source</th>\n",
       "      <th>Sperm From</th>\n",
       "      <th>Fresh Cycle</th>\n",
       "      <th>Frozen Cycle</th>\n",
       "      <th>Eggs Thawed</th>\n",
       "      <th>Eggs Mixed With Partner Sperm</th>\n",
       "      <th>Embryos Transfered</th>\n",
       "      <th>Live Birth Occurrence</th>\n",
       "    </tr>\n",
       "  </thead>\n",
       "  <tbody>\n",
       "    <tr>\n",
       "      <th>0</th>\n",
       "      <td>40-42</td>\n",
       "      <td>2</td>\n",
       "      <td>0</td>\n",
       "      <td>0</td>\n",
       "      <td>0</td>\n",
       "      <td>0</td>\n",
       "      <td>0</td>\n",
       "      <td>0</td>\n",
       "      <td>0</td>\n",
       "      <td>0</td>\n",
       "      <td>...</td>\n",
       "      <td>0</td>\n",
       "      <td>0</td>\n",
       "      <td>Patient</td>\n",
       "      <td>Partner</td>\n",
       "      <td>0.0</td>\n",
       "      <td>1.0</td>\n",
       "      <td>0.0</td>\n",
       "      <td>0</td>\n",
       "      <td>1.0</td>\n",
       "      <td>1.0</td>\n",
       "    </tr>\n",
       "    <tr>\n",
       "      <th>1</th>\n",
       "      <td>45-50</td>\n",
       "      <td>3</td>\n",
       "      <td>0</td>\n",
       "      <td>0</td>\n",
       "      <td>0</td>\n",
       "      <td>0</td>\n",
       "      <td>0</td>\n",
       "      <td>0</td>\n",
       "      <td>0</td>\n",
       "      <td>0</td>\n",
       "      <td>...</td>\n",
       "      <td>0</td>\n",
       "      <td>1</td>\n",
       "      <td>Patient</td>\n",
       "      <td>Partner</td>\n",
       "      <td>1.0</td>\n",
       "      <td>0.0</td>\n",
       "      <td>0.0</td>\n",
       "      <td>3</td>\n",
       "      <td>2.0</td>\n",
       "      <td>NaN</td>\n",
       "    </tr>\n",
       "    <tr>\n",
       "      <th>2</th>\n",
       "      <td>35-37</td>\n",
       "      <td>0</td>\n",
       "      <td>0</td>\n",
       "      <td>0</td>\n",
       "      <td>0</td>\n",
       "      <td>0</td>\n",
       "      <td>0</td>\n",
       "      <td>0</td>\n",
       "      <td>0</td>\n",
       "      <td>0</td>\n",
       "      <td>...</td>\n",
       "      <td>0</td>\n",
       "      <td>1</td>\n",
       "      <td>Patient</td>\n",
       "      <td>Partner</td>\n",
       "      <td>1.0</td>\n",
       "      <td>0.0</td>\n",
       "      <td>0.0</td>\n",
       "      <td>0</td>\n",
       "      <td>0.0</td>\n",
       "      <td>NaN</td>\n",
       "    </tr>\n",
       "    <tr>\n",
       "      <th>3</th>\n",
       "      <td>18 - 34</td>\n",
       "      <td>2</td>\n",
       "      <td>0</td>\n",
       "      <td>0</td>\n",
       "      <td>0</td>\n",
       "      <td>0</td>\n",
       "      <td>0</td>\n",
       "      <td>0</td>\n",
       "      <td>0</td>\n",
       "      <td>0</td>\n",
       "      <td>...</td>\n",
       "      <td>0</td>\n",
       "      <td>0</td>\n",
       "      <td>Patient</td>\n",
       "      <td>Partner</td>\n",
       "      <td>0.0</td>\n",
       "      <td>1.0</td>\n",
       "      <td>0.0</td>\n",
       "      <td>0</td>\n",
       "      <td>1.0</td>\n",
       "      <td>NaN</td>\n",
       "    </tr>\n",
       "    <tr>\n",
       "      <th>4</th>\n",
       "      <td>18 - 34</td>\n",
       "      <td>5</td>\n",
       "      <td>1</td>\n",
       "      <td>1</td>\n",
       "      <td>0</td>\n",
       "      <td>0</td>\n",
       "      <td>0</td>\n",
       "      <td>0</td>\n",
       "      <td>0</td>\n",
       "      <td>0</td>\n",
       "      <td>...</td>\n",
       "      <td>0</td>\n",
       "      <td>1</td>\n",
       "      <td>Patient</td>\n",
       "      <td>Partner</td>\n",
       "      <td>1.0</td>\n",
       "      <td>0.0</td>\n",
       "      <td>0.0</td>\n",
       "      <td>4</td>\n",
       "      <td>2.0</td>\n",
       "      <td>NaN</td>\n",
       "    </tr>\n",
       "  </tbody>\n",
       "</table>\n",
       "<p>5 rows × 30 columns</p>\n",
       "</div>"
      ],
      "text/plain": [
       "  Patient Age at Treatment Total Number of Previous IVF cycles  \\\n",
       "0                    40-42                                   2   \n",
       "1                    45-50                                   3   \n",
       "2                    35-37                                   0   \n",
       "3                  18 - 34                                   2   \n",
       "4                  18 - 34                                   5   \n",
       "\n",
       "  Total number of IVF pregnancies  \\\n",
       "0                               0   \n",
       "1                               0   \n",
       "2                               0   \n",
       "3                               0   \n",
       "4                               1   \n",
       "\n",
       "   Total number of live births - conceived through IVF  \\\n",
       "0                                                  0     \n",
       "1                                                  0     \n",
       "2                                                  0     \n",
       "3                                                  0     \n",
       "4                                                  1     \n",
       "\n",
       "   Type of Infertility - Female Primary  \\\n",
       "0                                     0   \n",
       "1                                     0   \n",
       "2                                     0   \n",
       "3                                     0   \n",
       "4                                     0   \n",
       "\n",
       "   Type of Infertility - Female Secondary  Type of Infertility - Male Primary  \\\n",
       "0                                       0                                   0   \n",
       "1                                       0                                   0   \n",
       "2                                       0                                   0   \n",
       "3                                       0                                   0   \n",
       "4                                       0                                   0   \n",
       "\n",
       "   Type of Infertility - Male Secondary  Type of Infertility -Couple Primary  \\\n",
       "0                                     0                                    0   \n",
       "1                                     0                                    0   \n",
       "2                                     0                                    0   \n",
       "3                                     0                                    0   \n",
       "4                                     0                                    0   \n",
       "\n",
       "   Type of Infertility -Couple Secondary  ...  \\\n",
       "0                                      0  ...   \n",
       "1                                      0  ...   \n",
       "2                                      0  ...   \n",
       "3                                      0  ...   \n",
       "4                                      0  ...   \n",
       "\n",
       "   Cause of Infertility -  Partner Sperm Immunological factors  \\\n",
       "0                                                  0             \n",
       "1                                                  0             \n",
       "2                                                  0             \n",
       "3                                                  0             \n",
       "4                                                  0             \n",
       "\n",
       "   Stimulation used  Egg Source  Sperm From  Fresh Cycle  Frozen Cycle  \\\n",
       "0                 0     Patient     Partner          0.0           1.0   \n",
       "1                 1     Patient     Partner          1.0           0.0   \n",
       "2                 1     Patient     Partner          1.0           0.0   \n",
       "3                 0     Patient     Partner          0.0           1.0   \n",
       "4                 1     Patient     Partner          1.0           0.0   \n",
       "\n",
       "   Eggs Thawed  Eggs Mixed With Partner Sperm  Embryos Transfered  \\\n",
       "0          0.0                              0                 1.0   \n",
       "1          0.0                              3                 2.0   \n",
       "2          0.0                              0                 0.0   \n",
       "3          0.0                              0                 1.0   \n",
       "4          0.0                              4                 2.0   \n",
       "\n",
       "   Live Birth Occurrence  \n",
       "0                    1.0  \n",
       "1                    NaN  \n",
       "2                    NaN  \n",
       "3                    NaN  \n",
       "4                    NaN  \n",
       "\n",
       "[5 rows x 30 columns]"
      ]
     },
     "execution_count": 7,
     "metadata": {},
     "output_type": "execute_result"
    }
   ],
   "source": [
    "df_filtered = df[columns_to_keep]\n",
    "\n",
    "df_filtered.to_csv('eda-analysis.csv', index=False)\n",
    "\n",
    "df_filtered.head()"
   ]
  },
  {
   "cell_type": "code",
   "execution_count": 9,
   "id": "61854fc8",
   "metadata": {
    "tags": []
   },
   "outputs": [
    {
     "data": {
      "text/plain": [
       "(158519, 30)"
      ]
     },
     "execution_count": 9,
     "metadata": {},
     "output_type": "execute_result"
    }
   ],
   "source": [
    "df_filtered.shape"
   ]
  },
  {
   "cell_type": "code",
   "execution_count": 11,
   "id": "b1782d91",
   "metadata": {
    "tags": []
   },
   "outputs": [
    {
     "data": {
      "text/plain": [
       "Patient Age at Treatment                                            0\n",
       "Total Number of Previous IVF cycles                                 0\n",
       "Total number of IVF pregnancies                                     0\n",
       "Total number of live births - conceived through IVF                 0\n",
       "Type of Infertility - Female Primary                                0\n",
       "Type of Infertility - Female Secondary                              0\n",
       "Type of Infertility - Male Primary                                  0\n",
       "Type of Infertility - Male Secondary                                0\n",
       "Type of Infertility -Couple Primary                                 0\n",
       "Type of Infertility -Couple Secondary                               0\n",
       "Cause  of Infertility - Tubal disease                               0\n",
       "Cause of Infertility - Ovulatory Disorder                           0\n",
       "Cause of Infertility - Male Factor                                  0\n",
       "Cause of Infertility - Patient Unexplained                          0\n",
       "Cause of Infertility - Endometriosis                                0\n",
       "Cause of Infertility - Cervical factors                             0\n",
       "Cause of Infertility - Female Factors                               0\n",
       "Cause of Infertility - Partner Sperm Concentration                  0\n",
       "Cause of Infertility -  Partner Sperm Morphology                    0\n",
       "Causes of Infertility - Partner Sperm Motility                      0\n",
       "Cause of Infertility -  Partner Sperm Immunological factors         0\n",
       "Stimulation used                                                    0\n",
       "Egg Source                                                      10413\n",
       "Sperm From                                                          0\n",
       "Fresh Cycle                                                     10413\n",
       "Frozen Cycle                                                    10413\n",
       "Eggs Thawed                                                     10413\n",
       "Eggs Mixed With Partner Sperm                                   10413\n",
       "Embryos Transfered                                              10413\n",
       "Live Birth Occurrence                                          120437\n",
       "dtype: int64"
      ]
     },
     "execution_count": 11,
     "metadata": {},
     "output_type": "execute_result"
    }
   ],
   "source": [
    "df_filtered.isna().sum()"
   ]
  },
  {
   "cell_type": "code",
   "execution_count": 15,
   "id": "e599f273",
   "metadata": {
    "tags": []
   },
   "outputs": [],
   "source": [
    "df_filtered = df_filtered.dropna(subset=['Embryos Transfered'])"
   ]
  },
  {
   "cell_type": "code",
   "execution_count": 17,
   "id": "d83bec6d",
   "metadata": {
    "tags": []
   },
   "outputs": [
    {
     "data": {
      "text/plain": [
       "Patient Age at Treatment                                            0\n",
       "Total Number of Previous IVF cycles                                 0\n",
       "Total number of IVF pregnancies                                     0\n",
       "Total number of live births - conceived through IVF                 0\n",
       "Type of Infertility - Female Primary                                0\n",
       "Type of Infertility - Female Secondary                              0\n",
       "Type of Infertility - Male Primary                                  0\n",
       "Type of Infertility - Male Secondary                                0\n",
       "Type of Infertility -Couple Primary                                 0\n",
       "Type of Infertility -Couple Secondary                               0\n",
       "Cause  of Infertility - Tubal disease                               0\n",
       "Cause of Infertility - Ovulatory Disorder                           0\n",
       "Cause of Infertility - Male Factor                                  0\n",
       "Cause of Infertility - Patient Unexplained                          0\n",
       "Cause of Infertility - Endometriosis                                0\n",
       "Cause of Infertility - Cervical factors                             0\n",
       "Cause of Infertility - Female Factors                               0\n",
       "Cause of Infertility - Partner Sperm Concentration                  0\n",
       "Cause of Infertility -  Partner Sperm Morphology                    0\n",
       "Causes of Infertility - Partner Sperm Motility                      0\n",
       "Cause of Infertility -  Partner Sperm Immunological factors         0\n",
       "Stimulation used                                                    0\n",
       "Egg Source                                                          0\n",
       "Sperm From                                                          0\n",
       "Fresh Cycle                                                         0\n",
       "Frozen Cycle                                                        0\n",
       "Eggs Thawed                                                         0\n",
       "Eggs Mixed With Partner Sperm                                       0\n",
       "Embryos Transfered                                                  0\n",
       "Live Birth Occurrence                                          111389\n",
       "dtype: int64"
      ]
     },
     "execution_count": 17,
     "metadata": {},
     "output_type": "execute_result"
    }
   ],
   "source": [
    "df_filtered.isna().sum()"
   ]
  },
  {
   "cell_type": "code",
   "execution_count": 19,
   "id": "0af651d8",
   "metadata": {
    "tags": []
   },
   "outputs": [
    {
     "data": {
      "text/plain": [
       "Live Birth Occurrence\n",
       "0.0    111389\n",
       "1.0     36717\n",
       "Name: count, dtype: int64"
      ]
     },
     "execution_count": 19,
     "metadata": {},
     "output_type": "execute_result"
    }
   ],
   "source": [
    "df_filtered['Live Birth Occurrence'] = df_filtered['Live Birth Occurrence'].fillna(0)\n",
    "\n",
    "df_filtered['Live Birth Occurrence'].value_counts()"
   ]
  },
  {
   "cell_type": "code",
   "execution_count": 21,
   "id": "440f99b8",
   "metadata": {
    "tags": []
   },
   "outputs": [
    {
     "data": {
      "text/plain": [
       "Patient Age at Treatment                                       0\n",
       "Total Number of Previous IVF cycles                            0\n",
       "Total number of IVF pregnancies                                0\n",
       "Total number of live births - conceived through IVF            0\n",
       "Type of Infertility - Female Primary                           0\n",
       "Type of Infertility - Female Secondary                         0\n",
       "Type of Infertility - Male Primary                             0\n",
       "Type of Infertility - Male Secondary                           0\n",
       "Type of Infertility -Couple Primary                            0\n",
       "Type of Infertility -Couple Secondary                          0\n",
       "Cause  of Infertility - Tubal disease                          0\n",
       "Cause of Infertility - Ovulatory Disorder                      0\n",
       "Cause of Infertility - Male Factor                             0\n",
       "Cause of Infertility - Patient Unexplained                     0\n",
       "Cause of Infertility - Endometriosis                           0\n",
       "Cause of Infertility - Cervical factors                        0\n",
       "Cause of Infertility - Female Factors                          0\n",
       "Cause of Infertility - Partner Sperm Concentration             0\n",
       "Cause of Infertility -  Partner Sperm Morphology               0\n",
       "Causes of Infertility - Partner Sperm Motility                 0\n",
       "Cause of Infertility -  Partner Sperm Immunological factors    0\n",
       "Stimulation used                                               0\n",
       "Egg Source                                                     0\n",
       "Sperm From                                                     0\n",
       "Fresh Cycle                                                    0\n",
       "Frozen Cycle                                                   0\n",
       "Eggs Thawed                                                    0\n",
       "Eggs Mixed With Partner Sperm                                  0\n",
       "Embryos Transfered                                             0\n",
       "Live Birth Occurrence                                          0\n",
       "dtype: int64"
      ]
     },
     "execution_count": 21,
     "metadata": {},
     "output_type": "execute_result"
    }
   ],
   "source": [
    "df_filtered.isna().sum()"
   ]
  },
  {
   "cell_type": "code",
   "execution_count": 23,
   "id": "c433e839",
   "metadata": {
    "tags": []
   },
   "outputs": [
    {
     "data": {
      "text/plain": [
       "Patient Age at Treatment                                        object\n",
       "Total Number of Previous IVF cycles                             object\n",
       "Total number of IVF pregnancies                                 object\n",
       "Total number of live births - conceived through IVF              int64\n",
       "Type of Infertility - Female Primary                             int64\n",
       "Type of Infertility - Female Secondary                           int64\n",
       "Type of Infertility - Male Primary                               int64\n",
       "Type of Infertility - Male Secondary                             int64\n",
       "Type of Infertility -Couple Primary                              int64\n",
       "Type of Infertility -Couple Secondary                            int64\n",
       "Cause  of Infertility - Tubal disease                            int64\n",
       "Cause of Infertility - Ovulatory Disorder                        int64\n",
       "Cause of Infertility - Male Factor                               int64\n",
       "Cause of Infertility - Patient Unexplained                       int64\n",
       "Cause of Infertility - Endometriosis                             int64\n",
       "Cause of Infertility - Cervical factors                          int64\n",
       "Cause of Infertility - Female Factors                            int64\n",
       "Cause of Infertility - Partner Sperm Concentration               int64\n",
       "Cause of Infertility -  Partner Sperm Morphology                 int64\n",
       "Causes of Infertility - Partner Sperm Motility                   int64\n",
       "Cause of Infertility -  Partner Sperm Immunological factors      int64\n",
       "Stimulation used                                                 int64\n",
       "Egg Source                                                      object\n",
       "Sperm From                                                      object\n",
       "Fresh Cycle                                                    float64\n",
       "Frozen Cycle                                                   float64\n",
       "Eggs Thawed                                                    float64\n",
       "Eggs Mixed With Partner Sperm                                   object\n",
       "Embryos Transfered                                             float64\n",
       "Live Birth Occurrence                                          float64\n",
       "dtype: object"
      ]
     },
     "execution_count": 23,
     "metadata": {},
     "output_type": "execute_result"
    }
   ],
   "source": [
    "#Check Types \n",
    "df_filtered.dtypes"
   ]
  },
  {
   "cell_type": "code",
   "execution_count": 25,
   "id": "1011764a",
   "metadata": {
    "tags": []
   },
   "outputs": [
    {
     "data": {
      "text/plain": [
       "Patient Age at Treatment\n",
       "18 - 34    61237\n",
       "35-37      33206\n",
       "38-39      20566\n",
       "40-42      20350\n",
       "43-44       6573\n",
       "45-50       3786\n",
       "Name: count, dtype: int64"
      ]
     },
     "execution_count": 25,
     "metadata": {},
     "output_type": "execute_result"
    }
   ],
   "source": [
    "df_filtered = df_filtered[df_filtered['Patient Age at Treatment'] != '999']\n",
    "\n",
    "df_filtered['Patient Age at Treatment'].value_counts()"
   ]
  },
  {
   "cell_type": "code",
   "execution_count": 27,
   "id": "ad51ce38",
   "metadata": {
    "tags": []
   },
   "outputs": [],
   "source": [
    "from sklearn import preprocessing \n",
    "\n",
    "label_encoder = preprocessing.LabelEncoder()\n",
    "df_filtered['Patient Age at Treatment'] = label_encoder.fit_transform(df_filtered['Patient Age at Treatment'])"
   ]
  },
  {
   "cell_type": "code",
   "execution_count": 28,
   "id": "0dcfdb3b",
   "metadata": {
    "tags": []
   },
   "outputs": [
    {
     "data": {
      "text/html": [
       "<div>\n",
       "<style scoped>\n",
       "    .dataframe tbody tr th:only-of-type {\n",
       "        vertical-align: middle;\n",
       "    }\n",
       "\n",
       "    .dataframe tbody tr th {\n",
       "        vertical-align: top;\n",
       "    }\n",
       "\n",
       "    .dataframe thead th {\n",
       "        text-align: right;\n",
       "    }\n",
       "</style>\n",
       "<table border=\"1\" class=\"dataframe\">\n",
       "  <thead>\n",
       "    <tr style=\"text-align: right;\">\n",
       "      <th></th>\n",
       "      <th>Patient Age at Treatment</th>\n",
       "      <th>Total Number of Previous IVF cycles</th>\n",
       "      <th>Total number of IVF pregnancies</th>\n",
       "      <th>Total number of live births - conceived through IVF</th>\n",
       "      <th>Type of Infertility - Female Primary</th>\n",
       "      <th>Type of Infertility - Female Secondary</th>\n",
       "      <th>Type of Infertility - Male Primary</th>\n",
       "      <th>Type of Infertility - Male Secondary</th>\n",
       "      <th>Type of Infertility -Couple Primary</th>\n",
       "      <th>Type of Infertility -Couple Secondary</th>\n",
       "      <th>...</th>\n",
       "      <th>Cause of Infertility -  Partner Sperm Immunological factors</th>\n",
       "      <th>Stimulation used</th>\n",
       "      <th>Egg Source</th>\n",
       "      <th>Sperm From</th>\n",
       "      <th>Fresh Cycle</th>\n",
       "      <th>Frozen Cycle</th>\n",
       "      <th>Eggs Thawed</th>\n",
       "      <th>Eggs Mixed With Partner Sperm</th>\n",
       "      <th>Embryos Transfered</th>\n",
       "      <th>Live Birth Occurrence</th>\n",
       "    </tr>\n",
       "  </thead>\n",
       "  <tbody>\n",
       "    <tr>\n",
       "      <th>0</th>\n",
       "      <td>3</td>\n",
       "      <td>2</td>\n",
       "      <td>0</td>\n",
       "      <td>0</td>\n",
       "      <td>0</td>\n",
       "      <td>0</td>\n",
       "      <td>0</td>\n",
       "      <td>0</td>\n",
       "      <td>0</td>\n",
       "      <td>0</td>\n",
       "      <td>...</td>\n",
       "      <td>0</td>\n",
       "      <td>0</td>\n",
       "      <td>Patient</td>\n",
       "      <td>Partner</td>\n",
       "      <td>0.0</td>\n",
       "      <td>1.0</td>\n",
       "      <td>0.0</td>\n",
       "      <td>0</td>\n",
       "      <td>1.0</td>\n",
       "      <td>1.0</td>\n",
       "    </tr>\n",
       "    <tr>\n",
       "      <th>1</th>\n",
       "      <td>5</td>\n",
       "      <td>3</td>\n",
       "      <td>0</td>\n",
       "      <td>0</td>\n",
       "      <td>0</td>\n",
       "      <td>0</td>\n",
       "      <td>0</td>\n",
       "      <td>0</td>\n",
       "      <td>0</td>\n",
       "      <td>0</td>\n",
       "      <td>...</td>\n",
       "      <td>0</td>\n",
       "      <td>1</td>\n",
       "      <td>Patient</td>\n",
       "      <td>Partner</td>\n",
       "      <td>1.0</td>\n",
       "      <td>0.0</td>\n",
       "      <td>0.0</td>\n",
       "      <td>3</td>\n",
       "      <td>2.0</td>\n",
       "      <td>0.0</td>\n",
       "    </tr>\n",
       "    <tr>\n",
       "      <th>2</th>\n",
       "      <td>1</td>\n",
       "      <td>0</td>\n",
       "      <td>0</td>\n",
       "      <td>0</td>\n",
       "      <td>0</td>\n",
       "      <td>0</td>\n",
       "      <td>0</td>\n",
       "      <td>0</td>\n",
       "      <td>0</td>\n",
       "      <td>0</td>\n",
       "      <td>...</td>\n",
       "      <td>0</td>\n",
       "      <td>1</td>\n",
       "      <td>Patient</td>\n",
       "      <td>Partner</td>\n",
       "      <td>1.0</td>\n",
       "      <td>0.0</td>\n",
       "      <td>0.0</td>\n",
       "      <td>0</td>\n",
       "      <td>0.0</td>\n",
       "      <td>0.0</td>\n",
       "    </tr>\n",
       "    <tr>\n",
       "      <th>3</th>\n",
       "      <td>0</td>\n",
       "      <td>2</td>\n",
       "      <td>0</td>\n",
       "      <td>0</td>\n",
       "      <td>0</td>\n",
       "      <td>0</td>\n",
       "      <td>0</td>\n",
       "      <td>0</td>\n",
       "      <td>0</td>\n",
       "      <td>0</td>\n",
       "      <td>...</td>\n",
       "      <td>0</td>\n",
       "      <td>0</td>\n",
       "      <td>Patient</td>\n",
       "      <td>Partner</td>\n",
       "      <td>0.0</td>\n",
       "      <td>1.0</td>\n",
       "      <td>0.0</td>\n",
       "      <td>0</td>\n",
       "      <td>1.0</td>\n",
       "      <td>0.0</td>\n",
       "    </tr>\n",
       "    <tr>\n",
       "      <th>4</th>\n",
       "      <td>0</td>\n",
       "      <td>5</td>\n",
       "      <td>1</td>\n",
       "      <td>1</td>\n",
       "      <td>0</td>\n",
       "      <td>0</td>\n",
       "      <td>0</td>\n",
       "      <td>0</td>\n",
       "      <td>0</td>\n",
       "      <td>0</td>\n",
       "      <td>...</td>\n",
       "      <td>0</td>\n",
       "      <td>1</td>\n",
       "      <td>Patient</td>\n",
       "      <td>Partner</td>\n",
       "      <td>1.0</td>\n",
       "      <td>0.0</td>\n",
       "      <td>0.0</td>\n",
       "      <td>4</td>\n",
       "      <td>2.0</td>\n",
       "      <td>0.0</td>\n",
       "    </tr>\n",
       "  </tbody>\n",
       "</table>\n",
       "<p>5 rows × 30 columns</p>\n",
       "</div>"
      ],
      "text/plain": [
       "   Patient Age at Treatment Total Number of Previous IVF cycles  \\\n",
       "0                         3                                   2   \n",
       "1                         5                                   3   \n",
       "2                         1                                   0   \n",
       "3                         0                                   2   \n",
       "4                         0                                   5   \n",
       "\n",
       "  Total number of IVF pregnancies  \\\n",
       "0                               0   \n",
       "1                               0   \n",
       "2                               0   \n",
       "3                               0   \n",
       "4                               1   \n",
       "\n",
       "   Total number of live births - conceived through IVF  \\\n",
       "0                                                  0     \n",
       "1                                                  0     \n",
       "2                                                  0     \n",
       "3                                                  0     \n",
       "4                                                  1     \n",
       "\n",
       "   Type of Infertility - Female Primary  \\\n",
       "0                                     0   \n",
       "1                                     0   \n",
       "2                                     0   \n",
       "3                                     0   \n",
       "4                                     0   \n",
       "\n",
       "   Type of Infertility - Female Secondary  Type of Infertility - Male Primary  \\\n",
       "0                                       0                                   0   \n",
       "1                                       0                                   0   \n",
       "2                                       0                                   0   \n",
       "3                                       0                                   0   \n",
       "4                                       0                                   0   \n",
       "\n",
       "   Type of Infertility - Male Secondary  Type of Infertility -Couple Primary  \\\n",
       "0                                     0                                    0   \n",
       "1                                     0                                    0   \n",
       "2                                     0                                    0   \n",
       "3                                     0                                    0   \n",
       "4                                     0                                    0   \n",
       "\n",
       "   Type of Infertility -Couple Secondary  ...  \\\n",
       "0                                      0  ...   \n",
       "1                                      0  ...   \n",
       "2                                      0  ...   \n",
       "3                                      0  ...   \n",
       "4                                      0  ...   \n",
       "\n",
       "   Cause of Infertility -  Partner Sperm Immunological factors  \\\n",
       "0                                                  0             \n",
       "1                                                  0             \n",
       "2                                                  0             \n",
       "3                                                  0             \n",
       "4                                                  0             \n",
       "\n",
       "   Stimulation used  Egg Source  Sperm From  Fresh Cycle  Frozen Cycle  \\\n",
       "0                 0     Patient     Partner          0.0           1.0   \n",
       "1                 1     Patient     Partner          1.0           0.0   \n",
       "2                 1     Patient     Partner          1.0           0.0   \n",
       "3                 0     Patient     Partner          0.0           1.0   \n",
       "4                 1     Patient     Partner          1.0           0.0   \n",
       "\n",
       "   Eggs Thawed  Eggs Mixed With Partner Sperm  Embryos Transfered  \\\n",
       "0          0.0                              0                 1.0   \n",
       "1          0.0                              3                 2.0   \n",
       "2          0.0                              0                 0.0   \n",
       "3          0.0                              0                 1.0   \n",
       "4          0.0                              4                 2.0   \n",
       "\n",
       "   Live Birth Occurrence  \n",
       "0                    1.0  \n",
       "1                    0.0  \n",
       "2                    0.0  \n",
       "3                    0.0  \n",
       "4                    0.0  \n",
       "\n",
       "[5 rows x 30 columns]"
      ]
     },
     "execution_count": 28,
     "metadata": {},
     "output_type": "execute_result"
    }
   ],
   "source": [
    "df_filtered.head()"
   ]
  },
  {
   "cell_type": "code",
   "execution_count": 29,
   "id": "6e968529",
   "metadata": {
    "tags": []
   },
   "outputs": [
    {
     "data": {
      "text/plain": [
       "(145718, 26)"
      ]
     },
     "execution_count": 29,
     "metadata": {},
     "output_type": "execute_result"
    }
   ],
   "source": [
    "df_filtered = df_filtered.drop(['Egg Source', 'Sperm From', 'Cause of Infertility -  Partner Sperm Immunological factors',\n",
    "                               'Stimulation used', 'Cause of Infertility -  Partner Sperm Immunological factors'], axis=1)\n",
    "df_filtered.shape"
   ]
  },
  {
   "cell_type": "code",
   "execution_count": 31,
   "id": "e919035a",
   "metadata": {
    "tags": []
   },
   "outputs": [
    {
     "data": {
      "text/plain": [
       "Total Number of Previous IVF cycles\n",
       "0      60690\n",
       "1      37296\n",
       "2      21286\n",
       "3      11532\n",
       "4       6401\n",
       ">=5     4896\n",
       "5       3617\n",
       "Name: count, dtype: int64"
      ]
     },
     "execution_count": 31,
     "metadata": {},
     "output_type": "execute_result"
    }
   ],
   "source": [
    "df_filtered['Total Number of Previous IVF cycles'].value_counts()"
   ]
  },
  {
   "cell_type": "code",
   "execution_count": 35,
   "id": "9421c8a4",
   "metadata": {
    "tags": []
   },
   "outputs": [
    {
     "data": {
      "text/plain": [
       "Total number of IVF pregnancies\n",
       "0      114411\n",
       "1       20354\n",
       "0        6687\n",
       "2        2486\n",
       "1        1187\n",
       "3         344\n",
       "2         166\n",
       "4          54\n",
       "3          20\n",
       "5           6\n",
       "4           2\n",
       ">=5         1\n",
       "Name: count, dtype: int64"
      ]
     },
     "execution_count": 35,
     "metadata": {},
     "output_type": "execute_result"
    }
   ],
   "source": [
    "df_filtered['Total number of IVF pregnancies'].value_counts()"
   ]
  },
  {
   "cell_type": "code",
   "execution_count": 37,
   "id": "f0f63154",
   "metadata": {
    "tags": []
   },
   "outputs": [],
   "source": [
    "df_filtered['Total Number of Previous IVF cycles'] = df_filtered['Total Number of Previous IVF cycles'].replace('>=5', 5)"
   ]
  },
  {
   "cell_type": "code",
   "execution_count": 39,
   "id": "fbea5518",
   "metadata": {
    "tags": []
   },
   "outputs": [
    {
     "data": {
      "text/plain": [
       "Total Number of Previous IVF cycles\n",
       "0    60690\n",
       "1    37296\n",
       "2    21286\n",
       "3    11532\n",
       "4     6401\n",
       "5     4896\n",
       "5     3617\n",
       "Name: count, dtype: int64"
      ]
     },
     "execution_count": 39,
     "metadata": {},
     "output_type": "execute_result"
    }
   ],
   "source": [
    "df_filtered['Total Number of Previous IVF cycles'].value_counts()"
   ]
  },
  {
   "cell_type": "code",
   "execution_count": 41,
   "id": "fc8e000c",
   "metadata": {
    "tags": []
   },
   "outputs": [
    {
     "data": {
      "text/plain": [
       "Total Number of Previous IVF cycles\n",
       "0    60690\n",
       "1    37296\n",
       "2    21286\n",
       "3    11532\n",
       "5     8513\n",
       "4     6401\n",
       "Name: count, dtype: int64"
      ]
     },
     "execution_count": 41,
     "metadata": {},
     "output_type": "execute_result"
    }
   ],
   "source": [
    "#Two Separate 5 Categories change to One \n",
    "\n",
    "df_filtered['Total Number of Previous IVF cycles'] = pd.to_numeric(df_filtered['Total Number of Previous IVF cycles'])\n",
    "\n",
    "df_filtered['Total Number of Previous IVF cycles'].value_counts()"
   ]
  },
  {
   "cell_type": "code",
   "execution_count": 43,
   "id": "c5165420",
   "metadata": {
    "tags": []
   },
   "outputs": [
    {
     "data": {
      "text/plain": [
       "Total number of IVF pregnancies\n",
       "0    121098\n",
       "1     21541\n",
       "2      2652\n",
       "3       364\n",
       "4        56\n",
       "5         7\n",
       "Name: count, dtype: int64"
      ]
     },
     "execution_count": 43,
     "metadata": {},
     "output_type": "execute_result"
    }
   ],
   "source": [
    "df_filtered['Total number of IVF pregnancies'] = df_filtered['Total number of IVF pregnancies'].replace('>=5', 5)\n",
    "\n",
    "df_filtered['Total number of IVF pregnancies'] = pd.to_numeric(df_filtered['Total number of IVF pregnancies'])\n",
    "\n",
    "df_filtered['Total number of IVF pregnancies'].value_counts()"
   ]
  },
  {
   "cell_type": "code",
   "execution_count": 45,
   "id": "d10f904e",
   "metadata": {
    "tags": []
   },
   "outputs": [
    {
     "data": {
      "text/plain": [
       "Patient Age at Treatment                                 int64\n",
       "Total Number of Previous IVF cycles                      int64\n",
       "Total number of IVF pregnancies                          int64\n",
       "Total number of live births - conceived through IVF      int64\n",
       "Type of Infertility - Female Primary                     int64\n",
       "Type of Infertility - Female Secondary                   int64\n",
       "Type of Infertility - Male Primary                       int64\n",
       "Type of Infertility - Male Secondary                     int64\n",
       "Type of Infertility -Couple Primary                      int64\n",
       "Type of Infertility -Couple Secondary                    int64\n",
       "Cause  of Infertility - Tubal disease                    int64\n",
       "Cause of Infertility - Ovulatory Disorder                int64\n",
       "Cause of Infertility - Male Factor                       int64\n",
       "Cause of Infertility - Patient Unexplained               int64\n",
       "Cause of Infertility - Endometriosis                     int64\n",
       "Cause of Infertility - Cervical factors                  int64\n",
       "Cause of Infertility - Female Factors                    int64\n",
       "Cause of Infertility - Partner Sperm Concentration       int64\n",
       "Cause of Infertility -  Partner Sperm Morphology         int64\n",
       "Causes of Infertility - Partner Sperm Motility           int64\n",
       "Fresh Cycle                                            float64\n",
       "Frozen Cycle                                           float64\n",
       "Eggs Thawed                                            float64\n",
       "Eggs Mixed With Partner Sperm                           object\n",
       "Embryos Transfered                                     float64\n",
       "Live Birth Occurrence                                  float64\n",
       "dtype: object"
      ]
     },
     "execution_count": 45,
     "metadata": {},
     "output_type": "execute_result"
    }
   ],
   "source": [
    "df_filtered.dtypes"
   ]
  },
  {
   "cell_type": "code",
   "execution_count": 47,
   "id": "6f2ff529",
   "metadata": {
    "tags": []
   },
   "outputs": [
    {
     "data": {
      "text/plain": [
       "array(['0', '3', '4', '1', '13', '8', '11', '10', '7', '15', '9', '6',\n",
       "       '2', '17', '12', '5', '16', '33', '14', '24', '21', '23', '19',\n",
       "       '18', '20', '22', '25', '26', '27', '47', '> 50', '28', '36', '29',\n",
       "       '38', '34', '30', '37', '31', '43', '32', '42', '35', '46', '45',\n",
       "       14, 2, 17, 3, 0, 9, 8, 5, 7, 4, 6, 12, 10, 15, 13, 1, 11, 16, 18,\n",
       "       20, 26, 22, 21, 24, 19, 25, 36, 30, 32, 29, 27, 38, 28, 35, 23, 33,\n",
       "       31, 37, 41, 48, 39, 40, 34, 42, 49, 44, 43, 46, 47, '39', '40',\n",
       "       '44', '49', '41', 50], dtype=object)"
      ]
     },
     "execution_count": 47,
     "metadata": {},
     "output_type": "execute_result"
    }
   ],
   "source": [
    "df_filtered['Eggs Mixed With Partner Sperm'].unique()"
   ]
  },
  {
   "cell_type": "code",
   "execution_count": 49,
   "id": "ebd24d18",
   "metadata": {
    "tags": []
   },
   "outputs": [],
   "source": [
    "df_filtered['Eggs Mixed With Partner Sperm'] = df_filtered['Eggs Mixed With Partner Sperm'].replace('> 50', 50)"
   ]
  },
  {
   "cell_type": "code",
   "execution_count": 51,
   "id": "0eeeaf63",
   "metadata": {
    "tags": []
   },
   "outputs": [
    {
     "data": {
      "text/plain": [
       "array(['0', '3', '4', '1', '13', '8', '11', '10', '7', '15', '9', '6',\n",
       "       '2', '17', '12', '5', '16', '33', '14', '24', '21', '23', '19',\n",
       "       '18', '20', '22', '25', '26', '27', '47', 50, '28', '36', '29',\n",
       "       '38', '34', '30', '37', '31', '43', '32', '42', '35', '46', '45',\n",
       "       14, 2, 17, 3, 0, 9, 8, 5, 7, 4, 6, 12, 10, 15, 13, 1, 11, 16, 18,\n",
       "       20, 26, 22, 21, 24, 19, 25, 36, 30, 32, 29, 27, 38, 28, 35, 23, 33,\n",
       "       31, 37, 41, 48, 39, 40, 34, 42, 49, 44, 43, 46, 47, '39', '40',\n",
       "       '44', '49', '41'], dtype=object)"
      ]
     },
     "execution_count": 51,
     "metadata": {},
     "output_type": "execute_result"
    }
   ],
   "source": [
    "df_filtered['Eggs Mixed With Partner Sperm'].unique()"
   ]
  },
  {
   "cell_type": "code",
   "execution_count": 53,
   "id": "10d4f021",
   "metadata": {
    "tags": []
   },
   "outputs": [],
   "source": [
    "df_filtered['Eggs Mixed With Partner Sperm'] = pd.to_numeric(df_filtered['Eggs Mixed With Partner Sperm'])"
   ]
  },
  {
   "cell_type": "code",
   "execution_count": 55,
   "id": "ed2f5fe0",
   "metadata": {
    "tags": []
   },
   "outputs": [
    {
     "data": {
      "text/plain": [
       "Eggs Mixed With Partner Sperm\n",
       "0.0     55914\n",
       "6.0      7352\n",
       "5.0      7311\n",
       "7.0      6961\n",
       "4.0      6686\n",
       "8.0      6478\n",
       "3.0      5995\n",
       "9.0      5879\n",
       "10.0     5368\n",
       "2.0      5206\n",
       "11.0     4585\n",
       "1.0      4237\n",
       "12.0     4046\n",
       "13.0     3350\n",
       "14.0     2936\n",
       "15.0     2494\n",
       "16.0     1914\n",
       "17.0     1557\n",
       "18.0     1344\n",
       "19.0     1155\n",
       "20.0      862\n",
       "21.0      746\n",
       "22.0      581\n",
       "23.0      494\n",
       "24.0      418\n",
       "25.0      342\n",
       "26.0      272\n",
       "27.0      241\n",
       "28.0      213\n",
       "30.0      117\n",
       "29.0      115\n",
       "31.0       88\n",
       "32.0       82\n",
       "33.0       69\n",
       "34.0       60\n",
       "35.0       50\n",
       "36.0       44\n",
       "37.0       29\n",
       "38.0       28\n",
       "40.0       17\n",
       "41.0       16\n",
       "50.0       13\n",
       "39.0       12\n",
       "43.0       10\n",
       "42.0        8\n",
       "46.0        6\n",
       "44.0        6\n",
       "47.0        3\n",
       "45.0        3\n",
       "49.0        3\n",
       "48.0        2\n",
       "Name: count, dtype: int64"
      ]
     },
     "execution_count": 55,
     "metadata": {},
     "output_type": "execute_result"
    }
   ],
   "source": [
    "df_filtered['Eggs Mixed With Partner Sperm'].value_counts()"
   ]
  },
  {
   "cell_type": "code",
   "execution_count": 57,
   "id": "a98a1f54",
   "metadata": {
    "tags": []
   },
   "outputs": [
    {
     "data": {
      "text/plain": [
       "Patient Age at Treatment                               0\n",
       "Total Number of Previous IVF cycles                    0\n",
       "Total number of IVF pregnancies                        0\n",
       "Total number of live births - conceived through IVF    0\n",
       "Type of Infertility - Female Primary                   0\n",
       "Type of Infertility - Female Secondary                 0\n",
       "Type of Infertility - Male Primary                     0\n",
       "Type of Infertility - Male Secondary                   0\n",
       "Type of Infertility -Couple Primary                    0\n",
       "Type of Infertility -Couple Secondary                  0\n",
       "Cause  of Infertility - Tubal disease                  0\n",
       "Cause of Infertility - Ovulatory Disorder              0\n",
       "Cause of Infertility - Male Factor                     0\n",
       "Cause of Infertility - Patient Unexplained             0\n",
       "Cause of Infertility - Endometriosis                   0\n",
       "Cause of Infertility - Cervical factors                0\n",
       "Cause of Infertility - Female Factors                  0\n",
       "Cause of Infertility - Partner Sperm Concentration     0\n",
       "Cause of Infertility -  Partner Sperm Morphology       0\n",
       "Causes of Infertility - Partner Sperm Motility         0\n",
       "Fresh Cycle                                            0\n",
       "Frozen Cycle                                           0\n",
       "Eggs Thawed                                            0\n",
       "Eggs Mixed With Partner Sperm                          0\n",
       "Embryos Transfered                                     0\n",
       "Live Birth Occurrence                                  0\n",
       "dtype: int64"
      ]
     },
     "execution_count": 57,
     "metadata": {},
     "output_type": "execute_result"
    }
   ],
   "source": [
    "df_filtered.isna().sum()"
   ]
  },
  {
   "cell_type": "code",
   "execution_count": 59,
   "id": "3d3ba525",
   "metadata": {
    "tags": []
   },
   "outputs": [
    {
     "data": {
      "text/plain": [
       "(145718, 26)"
      ]
     },
     "execution_count": 59,
     "metadata": {},
     "output_type": "execute_result"
    }
   ],
   "source": [
    "df_filtered.shape"
   ]
  },
  {
   "cell_type": "code",
   "execution_count": 61,
   "id": "ce2fef6d",
   "metadata": {
    "tags": []
   },
   "outputs": [
    {
     "data": {
      "text/plain": [
       "Patient Age at Treatment                                 int64\n",
       "Total Number of Previous IVF cycles                      int64\n",
       "Total number of IVF pregnancies                          int64\n",
       "Total number of live births - conceived through IVF      int64\n",
       "Type of Infertility - Female Primary                     int64\n",
       "Type of Infertility - Female Secondary                   int64\n",
       "Type of Infertility - Male Primary                       int64\n",
       "Type of Infertility - Male Secondary                     int64\n",
       "Type of Infertility -Couple Primary                      int64\n",
       "Type of Infertility -Couple Secondary                    int64\n",
       "Cause  of Infertility - Tubal disease                    int64\n",
       "Cause of Infertility - Ovulatory Disorder                int64\n",
       "Cause of Infertility - Male Factor                       int64\n",
       "Cause of Infertility - Patient Unexplained               int64\n",
       "Cause of Infertility - Endometriosis                     int64\n",
       "Cause of Infertility - Cervical factors                  int64\n",
       "Cause of Infertility - Female Factors                    int64\n",
       "Cause of Infertility - Partner Sperm Concentration       int64\n",
       "Cause of Infertility -  Partner Sperm Morphology         int64\n",
       "Causes of Infertility - Partner Sperm Motility           int64\n",
       "Fresh Cycle                                            float64\n",
       "Frozen Cycle                                           float64\n",
       "Eggs Thawed                                            float64\n",
       "Eggs Mixed With Partner Sperm                          float64\n",
       "Embryos Transfered                                     float64\n",
       "Live Birth Occurrence                                  float64\n",
       "dtype: object"
      ]
     },
     "execution_count": 61,
     "metadata": {},
     "output_type": "execute_result"
    }
   ],
   "source": [
    "df_filtered.dtypes"
   ]
  },
  {
   "cell_type": "code",
   "execution_count": 63,
   "id": "c6321fc3",
   "metadata": {
    "tags": []
   },
   "outputs": [],
   "source": [
    "df_filtered['Fresh Cycle'] = df_filtered['Fresh Cycle'].astype(int)"
   ]
  },
  {
   "cell_type": "code",
   "execution_count": 65,
   "id": "3103b5e3",
   "metadata": {
    "tags": []
   },
   "outputs": [],
   "source": [
    "df_filtered['Frozen Cycle'] = df_filtered['Frozen Cycle'].astype(int)\n",
    "df_filtered['Eggs Thawed'] = df_filtered['Eggs Thawed'].astype(int)\n",
    "df_filtered['Eggs Mixed With Partner Sperm'] = df_filtered['Eggs Mixed With Partner Sperm'].astype(int)\n",
    "df_filtered['Embryos Transfered'] = df_filtered['Embryos Transfered'].astype(int)\n",
    "df_filtered['Live Birth Occurrence'] = df_filtered['Live Birth Occurrence'].astype(int)"
   ]
  },
  {
   "cell_type": "code",
   "execution_count": 73,
   "id": "4ef4b518",
   "metadata": {
    "tags": []
   },
   "outputs": [
    {
     "data": {
      "text/plain": [
       "Patient Age at Treatment                               int64\n",
       "Total Number of Previous IVF cycles                    int64\n",
       "Total number of IVF pregnancies                        int64\n",
       "Total number of live births - conceived through IVF    int64\n",
       "Type of Infertility - Female Primary                   int64\n",
       "Type of Infertility - Female Secondary                 int64\n",
       "Type of Infertility - Male Primary                     int64\n",
       "Type of Infertility - Male Secondary                   int64\n",
       "Type of Infertility -Couple Primary                    int64\n",
       "Type of Infertility -Couple Secondary                  int64\n",
       "Cause  of Infertility - Tubal disease                  int64\n",
       "Cause of Infertility - Ovulatory Disorder              int64\n",
       "Cause of Infertility - Male Factor                     int64\n",
       "Cause of Infertility - Patient Unexplained             int64\n",
       "Cause of Infertility - Endometriosis                   int64\n",
       "Cause of Infertility - Cervical factors                int64\n",
       "Cause of Infertility - Female Factors                  int64\n",
       "Cause of Infertility - Partner Sperm Concentration     int64\n",
       "Cause of Infertility -  Partner Sperm Morphology       int64\n",
       "Causes of Infertility - Partner Sperm Motility         int64\n",
       "Fresh Cycle                                            int64\n",
       "Frozen Cycle                                           int64\n",
       "Eggs Thawed                                            int64\n",
       "Eggs Mixed With Partner Sperm                          int64\n",
       "Embryos Transfered                                     int64\n",
       "Live Birth Occurrence                                  int64\n",
       "dtype: object"
      ]
     },
     "execution_count": 73,
     "metadata": {},
     "output_type": "execute_result"
    }
   ],
   "source": [
    "df_filtered.dtypes"
   ]
  },
  {
   "cell_type": "code",
   "execution_count": 75,
   "id": "92cf3972",
   "metadata": {
    "tags": []
   },
   "outputs": [
    {
     "data": {
      "text/plain": [
       "Eggs Thawed\n",
       "0     144627\n",
       "8        187\n",
       "6        136\n",
       "7        102\n",
       "4         94\n",
       "9         82\n",
       "5         68\n",
       "10        67\n",
       "12        60\n",
       "11        57\n",
       "3         40\n",
       "14        38\n",
       "2         30\n",
       "13        28\n",
       "15        23\n",
       "16        17\n",
       "1         16\n",
       "17        11\n",
       "19         9\n",
       "18         6\n",
       "21         3\n",
       "24         3\n",
       "20         3\n",
       "26         2\n",
       "25         2\n",
       "23         2\n",
       "33         1\n",
       "27         1\n",
       "29         1\n",
       "22         1\n",
       "32         1\n",
       "Name: count, dtype: int64"
      ]
     },
     "execution_count": 75,
     "metadata": {},
     "output_type": "execute_result"
    }
   ],
   "source": [
    "df_filtered['Eggs Thawed'].value_counts()"
   ]
  },
  {
   "cell_type": "code",
   "execution_count": 85,
   "id": "63e7aaaf-f5b6-4236-bf3a-927a09e899a6",
   "metadata": {
    "tags": []
   },
   "outputs": [
    {
     "data": {
      "image/png": "[encoded data removed]",
      "text/plain": [
       "<Figure size 640x480 with 1 Axes>"
      ]
     },
     "metadata": {},
     "output_type": "display_data"
    }
   ],
   "source": [
    "import matplotlib.pyplot as plt\n",
    "df_filtered['Patient Age at Treatment'].value_counts().plot(kind='bar')\n",
    "plt.title('Age Distribution of IVF Treatment Patients')\n",
    "plt.xlabel('Age Categories')\n",
    "plt.ylabel('Number of Patients')\n",
    "plt.show()"
   ]
  }
 ],
 "metadata": {
  "kernelspec": {
   "display_name": "Python 3 (ipykernel)",
   "language": "python",
   "name": "python3"
  },
  "language_info": {
   "codemirror_mode": {
    "name": "ipython",
    "version": 3
   },
   "file_extension": ".py",
   "mimetype": "text/x-python",
   "name": "python",
   "nbconvert_exporter": "python",
   "pygments_lexer": "ipython3",
   "version": "3.11.7"
  }
 },
 "nbformat": 4,
 "nbformat_minor": 5
}
